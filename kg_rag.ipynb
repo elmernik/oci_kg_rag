{
 "cells": [
  {
   "cell_type": "markdown",
   "metadata": {},
   "source": [
    "### Demo for simple RAG using knowledge graphs and OCI Generative AI Service"
   ]
  },
  {
   "cell_type": "code",
   "execution_count": 1,
   "metadata": {},
   "outputs": [],
   "source": [
    "# Import necessary functions and libraries\n",
    "from search_graph import vector_search_graph, get_next_nodes\n",
    "from show_graph import show_graph\n",
    "from config_private import COMPARTMENT_OCID\n",
    "import oci"
   ]
  },
  {
   "cell_type": "code",
   "execution_count": 2,
   "metadata": {},
   "outputs": [],
   "source": [
    "# Setup basic variables\n",
    "# Auth Config\n",
    "compartment_id = COMPARTMENT_OCID\n",
    "CONFIG_PROFILE = \"DEFAULT\"\n",
    "config = oci.config.from_file('~/.oci/config', CONFIG_PROFILE)\n",
    "\n",
    "# Service endpoint, Frankfurt or Chicago\n",
    "endpoint = \"https://inference.generativeai.eu-frankfurt-1.oci.oraclecloud.com\""
   ]
  },
  {
   "cell_type": "code",
   "execution_count": 3,
   "metadata": {},
   "outputs": [
    {
     "name": "stderr",
     "output_type": "stream",
     "text": [
      "/Users/elmernickels/Documents/JOBB/Graph/.conda/lib/python3.9/site-packages/langchain_core/_api/deprecation.py:139: LangChainDeprecationWarning: The class `HuggingFaceEmbeddings` was deprecated in LangChain 0.2.2 and will be removed in 0.3.0. An updated version of the class exists in the langchain-huggingface package and should be used instead. To use it run `pip install -U langchain-huggingface` and import as `from langchain_huggingface import HuggingFaceEmbeddings`.\n",
      "  warn_deprecated(\n",
      "/Users/elmernickels/Documents/JOBB/Graph/.conda/lib/python3.9/site-packages/sentence_transformers/cross_encoder/CrossEncoder.py:11: TqdmWarning: IProgress not found. Please update jupyter and ipywidgets. See https://ipywidgets.readthedocs.io/en/stable/user_install.html\n",
      "  from tqdm.autonotebook import tqdm, trange\n",
      "/Users/elmernickels/Documents/JOBB/Graph/.conda/lib/python3.9/site-packages/threadpoolctl.py:1214: RuntimeWarning: \n",
      "Found Intel OpenMP ('libiomp') and LLVM OpenMP ('libomp') loaded at\n",
      "the same time. Both libraries are known to be incompatible and this\n",
      "can cause random crashes or deadlocks on Linux when loaded in the\n",
      "same Python program.\n",
      "Using threadpoolctl may cause crashes or deadlocks. For more\n",
      "information and possible workarounds, please see\n",
      "    https://github.com/joblib/threadpoolctl/blob/master/multiple_openmp.md\n",
      "\n",
      "  warnings.warn(msg, RuntimeWarning)\n",
      "/Users/elmernickels/Documents/JOBB/Graph/.conda/lib/python3.9/site-packages/huggingface_hub/file_download.py:1132: FutureWarning: `resume_download` is deprecated and will be removed in version 1.0.0. Downloads always resume when possible. If you want to force a new download, use `force_download=True`.\n",
      "  warnings.warn(\n"
     ]
    },
    {
     "name": "stdout",
     "output_type": "stream",
     "text": [
      "('Oracle Corporation', 'was founded in', '1977')\n",
      "('Larry Ellison', 'co-founded', 'Oracle Corporation')\n",
      "('Oracle Corporation', 'headquartered in', 'Austin, Texas')\n",
      "('Oracle Corporation', 'acquired several companies', 'which formerly functioned autonomously')\n",
      "('Oracle Corporation', 'is', 'American multinational computer technology company')\n",
      "('Oracle Corporation', 'developed', 'Oracle Rdb')\n",
      "('Larry Ellison', 'co-founder of', 'Oracle Corporation')\n",
      "('Bob Miner', 'co-founder of', 'Oracle Corporation')\n",
      "('Ed Oates', 'co-founder of', 'Oracle Corporation')\n",
      "('Oracle Corporation', 'developed', 'Oracle NoSQL Database')\n",
      "('Oracle Systems Corporation', 'was renamed to', 'Oracle Corporation')\n",
      "('Oracle Corporation', 'partnered with', 'Microsoft')\n",
      "('Oracle Corporation', 'had headquarters in', 'Redwood Shores from 1989 to 2020')\n",
      "('Oracle Corporation', 'was originally named', 'Software Development Laboratories (SDL)')\n",
      "('Larry Ellison', 'co-founded Oracle Corporation with', 'Bob Miner')\n",
      "('Oracle Corporation', 'acquired', 'BEA Systems')\n",
      "('Larry Ellison', 'co-founded Oracle Corporation with', 'Ed Oates')\n",
      "('Oracle Corporation', 'world headquarters located in', 'Austin, Texas since December 2020')\n",
      "('David Litchfield et al.', 'demonstrated', 'successful attacks against Oracle products')\n",
      "('Oracle Corporation', 'offices located in', 'Markham, Ontario, Canada')\n"
     ]
    }
   ],
   "source": [
    "# User query\n",
    "query = \"Who were the founders of Oracle?\"\n",
    "# Get most relevant relations\n",
    "relations = vector_search_graph(query, top_n=20)"
   ]
  },
  {
   "cell_type": "markdown",
   "metadata": {},
   "source": [
    "Example output:\n",
    "- ('Oracle Corporation', 'was founded in', '1977')\n",
    "- ('Larry Ellison', 'co-founded', 'Oracle Corporation')\n",
    "- ('Oracle Corporation', 'headquartered in', 'Austin, Texas')\n",
    "- ('Oracle Corporation', 'acquired several companies', 'which formerly functioned autonomously')\n",
    "- ('Oracle Corporation', 'is', 'American multinational computer technology company')\n",
    "- ('Oracle Corporation', 'developed', 'Oracle Rdb')\n",
    "- ('Larry Ellison', 'co-founder of', 'Oracle Corporation')\n",
    "- ('Bob Miner', 'co-founder of', 'Oracle Corporation')\n",
    "- ('Ed Oates', 'co-founder of', 'Oracle Corporation')\n",
    "- ('Oracle Corporation', 'developed', 'Oracle NoSQL Database')\n",
    "- ('Oracle Systems Corporation', 'was renamed to', 'Oracle Corporation')\n",
    "- ('Oracle Corporation', 'partnered with', 'Microsoft')\n",
    "- ('Oracle Corporation', 'had headquarters in', 'Redwood Shores from 1989 to 2020')\n",
    "- ('Oracle Corporation', 'was originally named', 'Software Development Laboratories (SDL)')\n",
    "- ('Larry Ellison', 'co-founded Oracle Corporation with', 'Bob Miner')\n",
    "- ('Oracle Corporation', 'acquired', 'BEA Systems')\n",
    "- ('Larry Ellison', 'co-founded Oracle Corporation with', 'Ed Oates')\n",
    "- ('Oracle Corporation', 'world headquarters located in', 'Austin, Texas since December 2020')\n",
    "- ('David Litchfield et al.', 'demonstrated', 'successful attacks against Oracle products')\n",
    "- ('Oracle Corporation', 'offices located in', 'Markham, Ontario, Canada')"
   ]
  },
  {
   "cell_type": "code",
   "execution_count": 4,
   "metadata": {},
   "outputs": [
    {
     "data": {
      "application/vnd.plotly.v1+json": {
       "config": {
        "plotlyServerURL": "https://plot.ly"
       },
       "data": [
        {
         "hoverinfo": "none",
         "line": {
          "color": "gray",
          "width": 0.5
         },
         "mode": "lines",
         "type": "scatter",
         "x": [
          0.08946523812202706,
          0.2765845266124342,
          null
         ],
         "y": [
          0.10833338264338395,
          -0.06507911180778064,
          null
         ]
        },
        {
         "hoverinfo": "none",
         "line": {
          "color": "gray",
          "width": 0.5
         },
         "mode": "lines",
         "type": "scatter",
         "x": [
          0.08946523812202706,
          -0.1670835716937914,
          null
         ],
         "y": [
          0.10833338264338395,
          0.4055311962299865,
          null
         ]
        },
        {
         "hoverinfo": "none",
         "line": {
          "color": "gray",
          "width": 0.5
         },
         "mode": "lines",
         "type": "scatter",
         "x": [
          0.08946523812202706,
          0.0558304692331438,
          null
         ],
         "y": [
          0.10833338264338395,
          0.5241879321987407,
          null
         ]
        },
        {
         "hoverinfo": "none",
         "line": {
          "color": "gray",
          "width": 0.5
         },
         "mode": "lines",
         "type": "scatter",
         "x": [
          0.08946523812202706,
          -0.11175469989464186,
          null
         ],
         "y": [
          0.10833338264338395,
          -0.08750523409369369,
          null
         ]
        },
        {
         "hoverinfo": "none",
         "line": {
          "color": "gray",
          "width": 0.5
         },
         "mode": "lines",
         "type": "scatter",
         "x": [
          0.08946523812202706,
          0.3544694633172578,
          null
         ],
         "y": [
          0.10833338264338395,
          0.3759794483212569,
          null
         ]
        },
        {
         "hoverinfo": "none",
         "line": {
          "color": "gray",
          "width": 0.5
         },
         "mode": "lines",
         "type": "scatter",
         "x": [
          0.08946523812202706,
          -0.07145077980441282,
          null
         ],
         "y": [
          0.10833338264338395,
          -0.2564708444316456,
          null
         ]
        },
        {
         "hoverinfo": "none",
         "line": {
          "color": "gray",
          "width": 0.5
         },
         "mode": "lines",
         "type": "scatter",
         "x": [
          0.08946523812202706,
          -0.029445592569216996,
          null
         ],
         "y": [
          0.10833338264338395,
          0.37080286832942994,
          null
         ]
        },
        {
         "hoverinfo": "none",
         "line": {
          "color": "gray",
          "width": 0.5
         },
         "mode": "lines",
         "type": "scatter",
         "x": [
          0.08946523812202706,
          -0.2580002805960914,
          null
         ],
         "y": [
          0.10833338264338395,
          0.29846472892289727,
          null
         ]
        },
        {
         "hoverinfo": "none",
         "line": {
          "color": "gray",
          "width": 0.5
         },
         "mode": "lines",
         "type": "scatter",
         "x": [
          0.08946523812202706,
          0.11207556793596538,
          null
         ],
         "y": [
          0.10833338264338395,
          -0.2718827159182076,
          null
         ]
        },
        {
         "hoverinfo": "none",
         "line": {
          "color": "gray",
          "width": 0.5
         },
         "mode": "lines",
         "type": "scatter",
         "x": [
          0.08946523812202706,
          0.46213979408611744,
          null
         ],
         "y": [
          0.10833338264338395,
          -0.08763467571582223,
          null
         ]
        },
        {
         "hoverinfo": "none",
         "line": {
          "color": "gray",
          "width": 0.5
         },
         "mode": "lines",
         "type": "scatter",
         "x": [
          0.08946523812202706,
          0.46129938007183685,
          null
         ],
         "y": [
          0.10833338264338395,
          0.2577679080787993,
          null
         ]
        },
        {
         "hoverinfo": "none",
         "line": {
          "color": "gray",
          "width": 0.5
         },
         "mode": "lines",
         "type": "scatter",
         "x": [
          0.08946523812202706,
          0.2970690890127345,
          null
         ],
         "y": [
          0.10833338264338395,
          -0.25367209860189505,
          null
         ]
        },
        {
         "hoverinfo": "none",
         "line": {
          "color": "gray",
          "width": 0.5
         },
         "mode": "lines",
         "type": "scatter",
         "x": [
          0.08946523812202706,
          -0.2911548007505685,
          null
         ],
         "y": [
          0.10833338264338395,
          0.12372829756678473,
          null
         ]
        },
        {
         "hoverinfo": "none",
         "line": {
          "color": "gray",
          "width": 0.5
         },
         "mode": "lines",
         "type": "scatter",
         "x": [
          0.08946523812202706,
          0.22756179315042235,
          null
         ],
         "y": [
          0.10833338264338395,
          0.4709496524501046,
          null
         ]
        },
        {
         "hoverinfo": "none",
         "line": {
          "color": "gray",
          "width": 0.5
         },
         "mode": "lines",
         "type": "scatter",
         "x": [
          0.08946523812202706,
          -0.28016362823570606,
          null
         ],
         "y": [
          0.10833338264338395,
          -0.057277200084082526,
          null
         ]
        },
        {
         "hoverinfo": "none",
         "line": {
          "color": "gray",
          "width": 0.5
         },
         "mode": "lines",
         "type": "scatter",
         "x": [
          0.08946523812202706,
          0.4700473087350803,
          null
         ],
         "y": [
          0.10833338264338395,
          0.09417800513534709,
          null
         ]
        },
        {
         "hoverinfo": "none",
         "line": {
          "color": "gray",
          "width": 0.5
         },
         "mode": "lines",
         "type": "scatter",
         "x": [
          -0.1670835716937914,
          -0.029445592569216996,
          null
         ],
         "y": [
          0.4055311962299865,
          0.37080286832942994,
          null
         ]
        },
        {
         "hoverinfo": "none",
         "line": {
          "color": "gray",
          "width": 0.5
         },
         "mode": "lines",
         "type": "scatter",
         "x": [
          -0.1670835716937914,
          -0.2580002805960914,
          null
         ],
         "y": [
          0.4055311962299865,
          0.29846472892289727,
          null
         ]
        },
        {
         "hoverinfo": "none",
         "line": {
          "color": "gray",
          "width": 0.5
         },
         "mode": "lines",
         "type": "scatter",
         "x": [
          -0.7027712979044595,
          -0.8947179788281315,
          null
         ],
         "y": [
          -0.9504015392236053,
          -1,
          null
         ]
        },
        {
         "hoverinfo": "text",
         "marker": {
          "color": "lightblue",
          "size": 10
         },
         "mode": "markers+text",
         "text": [
          "Oracle Corporation",
          "1977",
          "Larry Ellison",
          "Austin, Texas",
          "which formerly functioned autonomously",
          "American multinational computer technology company",
          "Oracle Rdb",
          "Bob Miner",
          "Ed Oates",
          "Oracle NoSQL Database",
          "Oracle Systems Corporation",
          "Microsoft",
          "Redwood Shores from 1989 to 2020",
          "Software Development Laboratories (SDL)",
          "BEA Systems",
          "Austin, Texas since December 2020",
          "David Litchfield et al.",
          "successful attacks against Oracle products",
          "Markham, Ontario, Canada"
         ],
         "textfont": {
          "size": 7
         },
         "textposition": "top center",
         "type": "scatter",
         "x": [
          0.08946523812202706,
          0.2765845266124342,
          -0.1670835716937914,
          0.0558304692331438,
          -0.11175469989464186,
          0.3544694633172578,
          -0.07145077980441282,
          -0.029445592569216996,
          -0.2580002805960914,
          0.11207556793596538,
          0.46213979408611744,
          0.46129938007183685,
          0.2970690890127345,
          -0.2911548007505685,
          0.22756179315042235,
          -0.28016362823570606,
          -0.7027712979044595,
          -0.8947179788281315,
          0.4700473087350803
         ],
         "y": [
          0.10833338264338395,
          -0.06507911180778064,
          0.4055311962299865,
          0.5241879321987407,
          -0.08750523409369369,
          0.3759794483212569,
          -0.2564708444316456,
          0.37080286832942994,
          0.29846472892289727,
          -0.2718827159182076,
          -0.08763467571582223,
          0.2577679080787993,
          -0.25367209860189505,
          0.12372829756678473,
          0.4709496524501046,
          -0.057277200084082526,
          -0.9504015392236053,
          -1,
          0.09417800513534709
         ]
        },
        {
         "hoverinfo": "none",
         "mode": "text",
         "text": [
          "was founded in",
          "co-founder of",
          "headquartered in",
          "acquired several companies",
          "is",
          "developed",
          "co-founder of",
          "co-founder of",
          "developed",
          "was renamed to",
          "partnered with",
          "had headquarters in",
          "was originally named",
          "acquired",
          "world headquarters located in",
          "offices located in",
          "co-founded Oracle Corporation with",
          "co-founded Oracle Corporation with",
          "demonstrated"
         ],
         "textfont": {
          "size": 7
         },
         "textposition": "middle center",
         "type": "scatter",
         "x": [
          0.18302488236723063,
          -0.03880916678588217,
          0.07264785367758543,
          -0.011144730886307401,
          0.22196735071964244,
          0.009007229158807119,
          0.03000982277640503,
          -0.08426752123703218,
          0.10077040302899622,
          0.27580251610407225,
          0.27538230909693195,
          0.19326716356738077,
          -0.10084478131427072,
          0.1585135156362247,
          -0.0953491950568395,
          0.2797562734285537,
          -0.0982645821315042,
          -0.2125419261449414,
          -0.7987446383662955
         ],
         "y": [
          0.021627135417801653,
          0.2569322894366852,
          0.31626065742106235,
          0.010414074274845128,
          0.24215641548232042,
          -0.07406873089413082,
          0.23956812548640694,
          0.2033990557831406,
          -0.08177466663741184,
          0.01034935346378086,
          0.1830506453610916,
          -0.07266935797925556,
          0.11603084010508434,
          0.2896415175467443,
          0.02552809127965071,
          0.10125569388936552,
          0.3881670322797082,
          0.3519979625764419,
          -0.9752007696118026
         ]
        }
       ],
       "layout": {
        "hovermode": "closest",
        "margin": {
         "b": 20,
         "l": 5,
         "r": 5,
         "t": 40
        },
        "showlegend": false,
        "template": {
         "data": {
          "bar": [
           {
            "error_x": {
             "color": "#2a3f5f"
            },
            "error_y": {
             "color": "#2a3f5f"
            },
            "marker": {
             "line": {
              "color": "#E5ECF6",
              "width": 0.5
             },
             "pattern": {
              "fillmode": "overlay",
              "size": 10,
              "solidity": 0.2
             }
            },
            "type": "bar"
           }
          ],
          "barpolar": [
           {
            "marker": {
             "line": {
              "color": "#E5ECF6",
              "width": 0.5
             },
             "pattern": {
              "fillmode": "overlay",
              "size": 10,
              "solidity": 0.2
             }
            },
            "type": "barpolar"
           }
          ],
          "carpet": [
           {
            "aaxis": {
             "endlinecolor": "#2a3f5f",
             "gridcolor": "white",
             "linecolor": "white",
             "minorgridcolor": "white",
             "startlinecolor": "#2a3f5f"
            },
            "baxis": {
             "endlinecolor": "#2a3f5f",
             "gridcolor": "white",
             "linecolor": "white",
             "minorgridcolor": "white",
             "startlinecolor": "#2a3f5f"
            },
            "type": "carpet"
           }
          ],
          "choropleth": [
           {
            "colorbar": {
             "outlinewidth": 0,
             "ticks": ""
            },
            "type": "choropleth"
           }
          ],
          "contour": [
           {
            "colorbar": {
             "outlinewidth": 0,
             "ticks": ""
            },
            "colorscale": [
             [
              0,
              "#0d0887"
             ],
             [
              0.1111111111111111,
              "#46039f"
             ],
             [
              0.2222222222222222,
              "#7201a8"
             ],
             [
              0.3333333333333333,
              "#9c179e"
             ],
             [
              0.4444444444444444,
              "#bd3786"
             ],
             [
              0.5555555555555556,
              "#d8576b"
             ],
             [
              0.6666666666666666,
              "#ed7953"
             ],
             [
              0.7777777777777778,
              "#fb9f3a"
             ],
             [
              0.8888888888888888,
              "#fdca26"
             ],
             [
              1,
              "#f0f921"
             ]
            ],
            "type": "contour"
           }
          ],
          "contourcarpet": [
           {
            "colorbar": {
             "outlinewidth": 0,
             "ticks": ""
            },
            "type": "contourcarpet"
           }
          ],
          "heatmap": [
           {
            "colorbar": {
             "outlinewidth": 0,
             "ticks": ""
            },
            "colorscale": [
             [
              0,
              "#0d0887"
             ],
             [
              0.1111111111111111,
              "#46039f"
             ],
             [
              0.2222222222222222,
              "#7201a8"
             ],
             [
              0.3333333333333333,
              "#9c179e"
             ],
             [
              0.4444444444444444,
              "#bd3786"
             ],
             [
              0.5555555555555556,
              "#d8576b"
             ],
             [
              0.6666666666666666,
              "#ed7953"
             ],
             [
              0.7777777777777778,
              "#fb9f3a"
             ],
             [
              0.8888888888888888,
              "#fdca26"
             ],
             [
              1,
              "#f0f921"
             ]
            ],
            "type": "heatmap"
           }
          ],
          "heatmapgl": [
           {
            "colorbar": {
             "outlinewidth": 0,
             "ticks": ""
            },
            "colorscale": [
             [
              0,
              "#0d0887"
             ],
             [
              0.1111111111111111,
              "#46039f"
             ],
             [
              0.2222222222222222,
              "#7201a8"
             ],
             [
              0.3333333333333333,
              "#9c179e"
             ],
             [
              0.4444444444444444,
              "#bd3786"
             ],
             [
              0.5555555555555556,
              "#d8576b"
             ],
             [
              0.6666666666666666,
              "#ed7953"
             ],
             [
              0.7777777777777778,
              "#fb9f3a"
             ],
             [
              0.8888888888888888,
              "#fdca26"
             ],
             [
              1,
              "#f0f921"
             ]
            ],
            "type": "heatmapgl"
           }
          ],
          "histogram": [
           {
            "marker": {
             "pattern": {
              "fillmode": "overlay",
              "size": 10,
              "solidity": 0.2
             }
            },
            "type": "histogram"
           }
          ],
          "histogram2d": [
           {
            "colorbar": {
             "outlinewidth": 0,
             "ticks": ""
            },
            "colorscale": [
             [
              0,
              "#0d0887"
             ],
             [
              0.1111111111111111,
              "#46039f"
             ],
             [
              0.2222222222222222,
              "#7201a8"
             ],
             [
              0.3333333333333333,
              "#9c179e"
             ],
             [
              0.4444444444444444,
              "#bd3786"
             ],
             [
              0.5555555555555556,
              "#d8576b"
             ],
             [
              0.6666666666666666,
              "#ed7953"
             ],
             [
              0.7777777777777778,
              "#fb9f3a"
             ],
             [
              0.8888888888888888,
              "#fdca26"
             ],
             [
              1,
              "#f0f921"
             ]
            ],
            "type": "histogram2d"
           }
          ],
          "histogram2dcontour": [
           {
            "colorbar": {
             "outlinewidth": 0,
             "ticks": ""
            },
            "colorscale": [
             [
              0,
              "#0d0887"
             ],
             [
              0.1111111111111111,
              "#46039f"
             ],
             [
              0.2222222222222222,
              "#7201a8"
             ],
             [
              0.3333333333333333,
              "#9c179e"
             ],
             [
              0.4444444444444444,
              "#bd3786"
             ],
             [
              0.5555555555555556,
              "#d8576b"
             ],
             [
              0.6666666666666666,
              "#ed7953"
             ],
             [
              0.7777777777777778,
              "#fb9f3a"
             ],
             [
              0.8888888888888888,
              "#fdca26"
             ],
             [
              1,
              "#f0f921"
             ]
            ],
            "type": "histogram2dcontour"
           }
          ],
          "mesh3d": [
           {
            "colorbar": {
             "outlinewidth": 0,
             "ticks": ""
            },
            "type": "mesh3d"
           }
          ],
          "parcoords": [
           {
            "line": {
             "colorbar": {
              "outlinewidth": 0,
              "ticks": ""
             }
            },
            "type": "parcoords"
           }
          ],
          "pie": [
           {
            "automargin": true,
            "type": "pie"
           }
          ],
          "scatter": [
           {
            "fillpattern": {
             "fillmode": "overlay",
             "size": 10,
             "solidity": 0.2
            },
            "type": "scatter"
           }
          ],
          "scatter3d": [
           {
            "line": {
             "colorbar": {
              "outlinewidth": 0,
              "ticks": ""
             }
            },
            "marker": {
             "colorbar": {
              "outlinewidth": 0,
              "ticks": ""
             }
            },
            "type": "scatter3d"
           }
          ],
          "scattercarpet": [
           {
            "marker": {
             "colorbar": {
              "outlinewidth": 0,
              "ticks": ""
             }
            },
            "type": "scattercarpet"
           }
          ],
          "scattergeo": [
           {
            "marker": {
             "colorbar": {
              "outlinewidth": 0,
              "ticks": ""
             }
            },
            "type": "scattergeo"
           }
          ],
          "scattergl": [
           {
            "marker": {
             "colorbar": {
              "outlinewidth": 0,
              "ticks": ""
             }
            },
            "type": "scattergl"
           }
          ],
          "scattermapbox": [
           {
            "marker": {
             "colorbar": {
              "outlinewidth": 0,
              "ticks": ""
             }
            },
            "type": "scattermapbox"
           }
          ],
          "scatterpolar": [
           {
            "marker": {
             "colorbar": {
              "outlinewidth": 0,
              "ticks": ""
             }
            },
            "type": "scatterpolar"
           }
          ],
          "scatterpolargl": [
           {
            "marker": {
             "colorbar": {
              "outlinewidth": 0,
              "ticks": ""
             }
            },
            "type": "scatterpolargl"
           }
          ],
          "scatterternary": [
           {
            "marker": {
             "colorbar": {
              "outlinewidth": 0,
              "ticks": ""
             }
            },
            "type": "scatterternary"
           }
          ],
          "surface": [
           {
            "colorbar": {
             "outlinewidth": 0,
             "ticks": ""
            },
            "colorscale": [
             [
              0,
              "#0d0887"
             ],
             [
              0.1111111111111111,
              "#46039f"
             ],
             [
              0.2222222222222222,
              "#7201a8"
             ],
             [
              0.3333333333333333,
              "#9c179e"
             ],
             [
              0.4444444444444444,
              "#bd3786"
             ],
             [
              0.5555555555555556,
              "#d8576b"
             ],
             [
              0.6666666666666666,
              "#ed7953"
             ],
             [
              0.7777777777777778,
              "#fb9f3a"
             ],
             [
              0.8888888888888888,
              "#fdca26"
             ],
             [
              1,
              "#f0f921"
             ]
            ],
            "type": "surface"
           }
          ],
          "table": [
           {
            "cells": {
             "fill": {
              "color": "#EBF0F8"
             },
             "line": {
              "color": "white"
             }
            },
            "header": {
             "fill": {
              "color": "#C8D4E3"
             },
             "line": {
              "color": "white"
             }
            },
            "type": "table"
           }
          ]
         },
         "layout": {
          "annotationdefaults": {
           "arrowcolor": "#2a3f5f",
           "arrowhead": 0,
           "arrowwidth": 1
          },
          "autotypenumbers": "strict",
          "coloraxis": {
           "colorbar": {
            "outlinewidth": 0,
            "ticks": ""
           }
          },
          "colorscale": {
           "diverging": [
            [
             0,
             "#8e0152"
            ],
            [
             0.1,
             "#c51b7d"
            ],
            [
             0.2,
             "#de77ae"
            ],
            [
             0.3,
             "#f1b6da"
            ],
            [
             0.4,
             "#fde0ef"
            ],
            [
             0.5,
             "#f7f7f7"
            ],
            [
             0.6,
             "#e6f5d0"
            ],
            [
             0.7,
             "#b8e186"
            ],
            [
             0.8,
             "#7fbc41"
            ],
            [
             0.9,
             "#4d9221"
            ],
            [
             1,
             "#276419"
            ]
           ],
           "sequential": [
            [
             0,
             "#0d0887"
            ],
            [
             0.1111111111111111,
             "#46039f"
            ],
            [
             0.2222222222222222,
             "#7201a8"
            ],
            [
             0.3333333333333333,
             "#9c179e"
            ],
            [
             0.4444444444444444,
             "#bd3786"
            ],
            [
             0.5555555555555556,
             "#d8576b"
            ],
            [
             0.6666666666666666,
             "#ed7953"
            ],
            [
             0.7777777777777778,
             "#fb9f3a"
            ],
            [
             0.8888888888888888,
             "#fdca26"
            ],
            [
             1,
             "#f0f921"
            ]
           ],
           "sequentialminus": [
            [
             0,
             "#0d0887"
            ],
            [
             0.1111111111111111,
             "#46039f"
            ],
            [
             0.2222222222222222,
             "#7201a8"
            ],
            [
             0.3333333333333333,
             "#9c179e"
            ],
            [
             0.4444444444444444,
             "#bd3786"
            ],
            [
             0.5555555555555556,
             "#d8576b"
            ],
            [
             0.6666666666666666,
             "#ed7953"
            ],
            [
             0.7777777777777778,
             "#fb9f3a"
            ],
            [
             0.8888888888888888,
             "#fdca26"
            ],
            [
             1,
             "#f0f921"
            ]
           ]
          },
          "colorway": [
           "#636efa",
           "#EF553B",
           "#00cc96",
           "#ab63fa",
           "#FFA15A",
           "#19d3f3",
           "#FF6692",
           "#B6E880",
           "#FF97FF",
           "#FECB52"
          ],
          "font": {
           "color": "#2a3f5f"
          },
          "geo": {
           "bgcolor": "white",
           "lakecolor": "white",
           "landcolor": "#E5ECF6",
           "showlakes": true,
           "showland": true,
           "subunitcolor": "white"
          },
          "hoverlabel": {
           "align": "left"
          },
          "hovermode": "closest",
          "mapbox": {
           "style": "light"
          },
          "paper_bgcolor": "white",
          "plot_bgcolor": "#E5ECF6",
          "polar": {
           "angularaxis": {
            "gridcolor": "white",
            "linecolor": "white",
            "ticks": ""
           },
           "bgcolor": "#E5ECF6",
           "radialaxis": {
            "gridcolor": "white",
            "linecolor": "white",
            "ticks": ""
           }
          },
          "scene": {
           "xaxis": {
            "backgroundcolor": "#E5ECF6",
            "gridcolor": "white",
            "gridwidth": 2,
            "linecolor": "white",
            "showbackground": true,
            "ticks": "",
            "zerolinecolor": "white"
           },
           "yaxis": {
            "backgroundcolor": "#E5ECF6",
            "gridcolor": "white",
            "gridwidth": 2,
            "linecolor": "white",
            "showbackground": true,
            "ticks": "",
            "zerolinecolor": "white"
           },
           "zaxis": {
            "backgroundcolor": "#E5ECF6",
            "gridcolor": "white",
            "gridwidth": 2,
            "linecolor": "white",
            "showbackground": true,
            "ticks": "",
            "zerolinecolor": "white"
           }
          },
          "shapedefaults": {
           "line": {
            "color": "#2a3f5f"
           }
          },
          "ternary": {
           "aaxis": {
            "gridcolor": "white",
            "linecolor": "white",
            "ticks": ""
           },
           "baxis": {
            "gridcolor": "white",
            "linecolor": "white",
            "ticks": ""
           },
           "bgcolor": "#E5ECF6",
           "caxis": {
            "gridcolor": "white",
            "linecolor": "white",
            "ticks": ""
           }
          },
          "title": {
           "x": 0.05
          },
          "xaxis": {
           "automargin": true,
           "gridcolor": "white",
           "linecolor": "white",
           "ticks": "",
           "title": {
            "standoff": 15
           },
           "zerolinecolor": "white",
           "zerolinewidth": 2
          },
          "yaxis": {
           "automargin": true,
           "gridcolor": "white",
           "linecolor": "white",
           "ticks": "",
           "title": {
            "standoff": 15
           },
           "zerolinecolor": "white",
           "zerolinewidth": 2
          }
         }
        },
        "title": {
         "font": {
          "size": 16
         },
         "text": "Knowledge Graph",
         "x": 0.5
        },
        "xaxis": {
         "visible": false
        },
        "yaxis": {
         "visible": false
        }
       }
      }
     },
     "metadata": {},
     "output_type": "display_data"
    }
   ],
   "source": [
    "# Show a partial knowledge graph\n",
    "head, relation, tail = list(zip(*relations))\n",
    "show_graph(head, relation, tail)"
   ]
  },
  {
   "attachments": {
    "image-2.png": {
     "image/png": "[encoded data removed]"
    }
   },
   "cell_type": "markdown",
   "metadata": {},
   "source": [
    "Example output:\n",
    "![image-2.png](attachment:image-2.png)"
   ]
  },
  {
   "cell_type": "code",
   "execution_count": 5,
   "metadata": {},
   "outputs": [],
   "source": [
    "# Define rerank prompt\n",
    "rerank_prompt = f'''Rerank the following knowledge graph relations based on their relevance to the query. \n",
    "            You should include all triplets given as context in your answer. Don't drop any that you feel are irrelevant, just order them last.\n",
    "            Output only the same relations in the reranked order without any further explanation: \n",
    "            QUERY: {query}\n",
    "            RELATIONS: {relations}'''"
   ]
  },
  {
   "cell_type": "code",
   "execution_count": 6,
   "metadata": {},
   "outputs": [
    {
     "name": "stdout",
     "output_type": "stream",
     "text": [
      "**************************Chat Result**************************\n",
      "['Oracle Corporation', 'was founded in', '1977'], ['Larry Ellison', 'co-founded', 'Oracle Corporation'], ['Bob Miner', 'co-founder of', 'Oracle Corporation'], ['Ed Oates', 'co-founder of', 'Oracle Corporation'], ['Oracle Corporation', 'headquartered in', 'Austin, Texas'], ['Oracle Corporation', 'is', 'American multinational computer technology company'], ['Larry Ellison', 'co-founded Oracle Corporation with', 'Bob Miner'], ['Larry Ellison', 'co-founded Oracle Corporation with', 'Ed Oates'], ['Oracle Systems Corporation', 'was renamed to', 'Oracle Corporation'], ['Oracle Corporation', 'developed', 'Oracle Rdb'], ['Oracle Corporation', 'developed', 'Oracle NoSQL Database'], ['Oracle Corporation', 'acquired several companies', 'which formerly functioned autonomously'], ['Oracle Corporation', 'partnered with', 'Microsoft'], ['Oracle Corporation', 'had headquarters in', 'Redwood Shores from 1989 to 2020'], ['Oracle Corporation', 'world headquarters located in', 'Austin, Texas since December 2020'], ['Oracle Corporation', 'was originally named', 'Software Development Laboratories (SDL)'], ['Oracle Corporation', 'acquired', 'BEA Systems'], ['Oracle Corporation', 'offices located in', 'Markham, Ontario, Canada'], ['David Litchfield et al.', 'demonstrated', 'successful attacks against Oracle products']\n"
     ]
    }
   ],
   "source": [
    "# Perform reranking\n",
    "generative_ai_inference_client = oci.generative_ai_inference.GenerativeAiInferenceClient(config=config, service_endpoint=endpoint, retry_strategy=oci.retry.NoneRetryStrategy(), timeout=(10,240))\n",
    "rerank_chat_detail = oci.generative_ai_inference.models.ChatDetails()\n",
    "\n",
    "rerank_chat_request = oci.generative_ai_inference.models.CohereChatRequest()\n",
    "rerank_chat_request.message = rerank_prompt\n",
    "rerank_chat_request.max_tokens = 800\n",
    "rerank_chat_request.temperature = 0.2\n",
    "rerank_chat_request.frequency_penalty = 0\n",
    "rerank_chat_request.top_p = 0.75\n",
    "rerank_chat_request.top_k = 0\n",
    "\n",
    "\n",
    "rerank_chat_detail.serving_mode = oci.generative_ai_inference.models.OnDemandServingMode(model_id=\"ocid1.generativeaimodel.oc1.eu-frankfurt-1.amaaaaaask7dceyazi3cpmptwa52f7dgwyskloughcxtjgrqre3pngwtig4q\")\n",
    "rerank_chat_detail.chat_request = rerank_chat_request\n",
    "rerank_chat_detail.compartment_id = compartment_id\n",
    "rerank_chat_response = generative_ai_inference_client.chat(rerank_chat_detail)\n",
    "# Print result\n",
    "print(\"**************************Chat Result**************************\")\n",
    "#print(vars(rerank_chat_response))\n",
    "# Reranked relations\n",
    "reranked_relations = vars(rerank_chat_response)[\"data\"].chat_response.text\n",
    "print(reranked_relations)"
   ]
  },
  {
   "cell_type": "code",
   "execution_count": 7,
   "metadata": {},
   "outputs": [
    {
     "name": "stdout",
     "output_type": "stream",
     "text": [
      "['Oracle Corporation', 'was founded in', '1977'], ['Larry Ellison', 'co-founded', 'Oracle Corporation'], ['Bob Miner', 'co-founder of', 'Oracle Corporation'], ['Ed Oates', 'co-founder of', 'Oracle Corporation'], ['Oracle Corporation', 'headquartered in', 'Austin, Texas'], ['Oracle Corporation', 'is', 'American multinational computer technology company'], ['Larry Ellison', 'co-founded Oracle Corporation with', 'Bob Miner'], ['Larry Ellison', 'co-founded Oracle Corporation with', 'Ed Oates'], ['Oracle Systems Corporation', 'was renamed to', 'Oracle Corporation'], ['Oracle Corporation', 'developed', 'Oracle Rdb']\n"
     ]
    }
   ],
   "source": [
    "# Get best n after reranking, currently set to 10\n",
    "# TODO make this a bit smarter \n",
    "context_relations = \"\".join(list(filter(lambda x: len(x) > 1, [i + ']' for i in reranked_relations.split(\"]\")]))[:10])\n",
    "print(context_relations)"
   ]
  },
  {
   "cell_type": "markdown",
   "metadata": {},
   "source": [
    "Example output:\n",
    "- ['Oracle Corporation', 'was founded in', '1977'], \n",
    "- ['Larry Ellison', 'co-founded', 'Oracle Corporation'], \n",
    "- ['Bob Miner', 'co-founder of', 'Oracle Corporation'], \n",
    "- ['Ed Oates', 'co-founder of', 'Oracle Corporation'], \n",
    "- ['Oracle Corporation', 'headquartered in', 'Austin, Texas'], \n",
    "- ['Oracle Corporation', 'is', 'American multinational computer technology company'], \n",
    "- ['Larry Ellison', 'co-founded Oracle Corporation with', 'Bob Miner'], \n",
    "- ['Larry Ellison', 'co-founded Oracle Corporation with', 'Ed Oates'], \n",
    "- ['Oracle Systems Corporation', 'was renamed to', 'Oracle Corporation'], \n",
    "- ['Oracle Corporation', 'developed', 'Oracle Rdb'], "
   ]
  },
  {
   "cell_type": "code",
   "execution_count": 8,
   "metadata": {},
   "outputs": [],
   "source": [
    "# Define RAG prompt\n",
    "rag_query = f'''You are an assistant for question-answering tasks. Use the following pieces of retrieved context in the form of a partial knowledge graph given in triplets in the order of\n",
    "        most relevant to least relevant to answer the question. If you don't know the answer, just say that you don't know. Use three sentences maximum and keep the answer concise.\n",
    "        Question: {query} \n",
    "        Context: {context_relations} \n",
    "        Answer:'''"
   ]
  },
  {
   "cell_type": "code",
   "execution_count": 9,
   "metadata": {},
   "outputs": [
    {
     "name": "stdout",
     "output_type": "stream",
     "text": [
      "**************************Chat Result**************************\n",
      "{'status': 200, 'headers': {'content-type': 'application/json', 'opc-request-id': '2EFE51891C594B40B203021D076C9384/D3D2568A9B8CD8B09D7678A3B023938A/F0761F3A740E36F7C24F042CEAC2E4F0', 'content-encoding': 'gzip', 'content-length': '676'}, 'data': {\n",
      "  \"chat_response\": {\n",
      "    \"api_format\": \"COHERE\",\n",
      "    \"chat_history\": [\n",
      "      {\n",
      "        \"message\": \"You are an assistant for question-answering tasks. Use the following pieces of retrieved context in the form of a partial knowledge graph given in triplets in the order of\\n        most relevant to least relevant to answer the question. If you don't know the answer, just say that you don't know. Use three sentences maximum and keep the answer concise.\\n        Question: Who were the founders of Oracle? \\n        Context: ['Oracle Corporation', 'was founded in', '1977'], ['Larry Ellison', 'co-founded', 'Oracle Corporation'], ['Bob Miner', 'co-founder of', 'Oracle Corporation'], ['Ed Oates', 'co-founder of', 'Oracle Corporation'], ['Oracle Corporation', 'headquartered in', 'Austin, Texas'], ['Oracle Corporation', 'is', 'American multinational computer technology company'], ['Larry Ellison', 'co-founded Oracle Corporation with', 'Bob Miner'], ['Larry Ellison', 'co-founded Oracle Corporation with', 'Ed Oates'], ['Oracle Systems Corporation', 'was renamed to', 'Oracle Corporation'], ['Oracle Corporation', 'developed', 'Oracle Rdb'] \\n        Answer:\",\n",
      "        \"role\": \"USER\"\n",
      "      },\n",
      "      {\n",
      "        \"message\": \"Oracle Corporation was founded in 1977 by Larry Ellison, Bob Miner, and Ed Oates.\",\n",
      "        \"role\": \"CHATBOT\",\n",
      "        \"tool_calls\": null\n",
      "      }\n",
      "    ],\n",
      "    \"citations\": null,\n",
      "    \"documents\": null,\n",
      "    \"error_message\": null,\n",
      "    \"finish_reason\": \"COMPLETE\",\n",
      "    \"is_search_required\": null,\n",
      "    \"prompt\": null,\n",
      "    \"search_queries\": null,\n",
      "    \"text\": \"Oracle Corporation was founded in 1977 by Larry Ellison, Bob Miner, and Ed Oates.\",\n",
      "    \"tool_calls\": null\n",
      "  },\n",
      "  \"model_id\": \"ocid1.generativeaimodel.oc1.eu-frankfurt-1.amaaaaaask7dceyazi3cpmptwa52f7dgwyskloughcxtjgrqre3pngwtig4q\",\n",
      "  \"model_version\": \"1.2\"\n",
      "}, 'request': <oci.request.Request object at 0x7f9f10b78790>, 'next_page': None, 'request_id': '2EFE51891C594B40B203021D076C9384/D3D2568A9B8CD8B09D7678A3B023938A/F0761F3A740E36F7C24F042CEAC2E4F0'}\n"
     ]
    }
   ],
   "source": [
    "# Execute RAG prompt and print response\n",
    "chat_detail = oci.generative_ai_inference.models.ChatDetails()\n",
    "\n",
    "chat_request = oci.generative_ai_inference.models.CohereChatRequest()\n",
    "chat_request.message = rag_query\n",
    "chat_request.max_tokens = 800\n",
    "chat_request.temperature = 0.3\n",
    "chat_request.frequency_penalty = 0\n",
    "chat_request.top_p = 0.75\n",
    "chat_request.top_k = 0\n",
    "\n",
    "\n",
    "chat_detail.serving_mode = oci.generative_ai_inference.models.OnDemandServingMode(model_id=\"ocid1.generativeaimodel.oc1.eu-frankfurt-1.amaaaaaask7dceyazi3cpmptwa52f7dgwyskloughcxtjgrqre3pngwtig4q\")\n",
    "chat_detail.chat_request = chat_request\n",
    "chat_detail.compartment_id = compartment_id\n",
    "chat_response = generative_ai_inference_client.chat(chat_detail)\n",
    "# Print result\n",
    "print(\"**************************Chat Result**************************\")\n",
    "print(vars(chat_response))"
   ]
  },
  {
   "cell_type": "markdown",
   "metadata": {},
   "source": [
    "Example output:\n",
    "- \"Oracle Corporation was founded in 1977 by Larry Ellison, Bob Miner, and Ed Oates.\"\n",
    "\n",
    "Which is correct :-)"
   ]
  }
 ],
 "metadata": {
  "kernelspec": {
   "display_name": "Python 3",
   "language": "python",
   "name": "python3"
  },
  "language_info": {
   "codemirror_mode": {
    "name": "ipython",
    "version": 3
   },
   "file_extension": ".py",
   "mimetype": "text/x-python",
   "name": "python",
   "nbconvert_exporter": "python",
   "pygments_lexer": "ipython3",
   "version": "3.9.19"
  }
 },
 "nbformat": 4,
 "nbformat_minor": 2
}
